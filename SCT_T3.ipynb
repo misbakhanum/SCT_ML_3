{
  "cells": [
    {
      "cell_type": "markdown",
      "metadata": {
        "id": "view-in-github",
        "colab_type": "text"
      },
      "source": [
        "<a href=\"https://colab.research.google.com/github/misbakhanum/SCT_ML_3/blob/main/SCT_T3.ipynb\" target=\"_parent\"><img src=\"https://colab.research.google.com/assets/colab-badge.svg\" alt=\"Open In Colab\"/></a>"
      ]
    },
    {
      "cell_type": "code",
      "source": [
        "import zipfile\n",
        "\n",
        "zip_file_name = '/content/test1.zip'  # Replace with your actual file name\n",
        "with zipfile.ZipFile(zip_file_name, 'r') as zip_ref:\n",
        "    zip_ref.extractall('/content/extracted_dataset')\n"
      ],
      "metadata": {
        "id": "Zzaf45-SNFda"
      },
      "execution_count": 3,
      "outputs": []
    },
    {
      "cell_type": "code",
      "source": [
        "import zipfile\n",
        "\n",
        "zip_file_name = '/content/train.zip'  # Replace with your actual file name\n",
        "with zipfile.ZipFile(zip_file_name, 'r') as zip_ref:\n",
        "    zip_ref.extractall('/content/Cat_dataset')"
      ],
      "metadata": {
        "id": "6NR6n5C_N8Bh"
      },
      "execution_count": 4,
      "outputs": []
    },
    {
      "cell_type": "code",
      "source": [
        "import os\n",
        "import cv2\n",
        "import numpy as np\n",
        "from sklearn.model_selection import train_test_split\n",
        "from sklearn.preprocessing import StandardScaler\n",
        "from sklearn.svm import SVC\n",
        "from sklearn.metrics import classification_report, accuracy_score\n",
        "\n",
        "# Define paths to your dataset\n",
        "cats_folder = '/content/Cat_dataset'\n",
        "dogs_folder = '/content/extracted_dataset'\n",
        "\n",
        "# Function to load images recursively from folder (filter only '.jpg' files)\n",
        "def load_images_from_folder(folder, label):\n",
        "    images = []\n",
        "    labels = []\n",
        "    valid_extensions = ('.jpg', '.jpeg', '.png')  # Add more extensions if needed\n",
        "    for root, dirs, files in os.walk(folder):  # Recursively search all subdirectories\n",
        "        for filename in files:\n",
        "            if filename.lower().endswith(valid_extensions):  # Check for valid image extensions\n",
        "                img_path = os.path.join(root, filename)\n",
        "                img = cv2.imread(img_path, cv2.IMREAD_GRAYSCALE)  # Load image in grayscale\n",
        "                if img is not None:  # Check if the image is loaded successfully\n",
        "                    img = cv2.resize(img, (64, 64))  # Resize to 64x64 pixels\n",
        "                    images.append(img.flatten())  # Flatten the image into a 1D array\n",
        "                    labels.append(label)\n",
        "                else:\n",
        "                    print(f\"Failed to load image: {img_path}\")\n",
        "            else:\n",
        "                print(f\"Skipped non-image file: {filename}\")\n",
        "    return images, labels\n",
        "\n",
        "# Load images\n",
        "cat_images, cat_labels = load_images_from_folder(cats_folder, label=0)  # 0 for cats\n",
        "dog_images, dog_labels = load_images_from_folder(dogs_folder, label=1)  # 1 for dogs\n",
        "\n",
        "# Check if any images were loaded\n",
        "if len(cat_images) == 0 or len(dog_images) == 0:\n",
        "    print(\"No images were loaded. Please check the folder paths or file types.\")\n",
        "else:\n",
        "    # Combine the datasets\n",
        "    X = np.array(cat_images + dog_images)\n",
        "    y = np.array(cat_labels + dog_labels)\n",
        "\n",
        "    # Split the data into train and test sets\n",
        "    X_train, X_test, y_train, y_test = train_test_split(X, y, test_size=0.2, random_state=42)\n",
        "\n",
        "    # Scale the data to normalize the features\n",
        "    scaler = StandardScaler()\n",
        "    X_train = scaler.fit_transform(X_train)\n",
        "    X_test = scaler.transform(X_test)\n",
        "\n",
        "    # Create the SVM model and train it\n",
        "    svm_model = SVC(kernel='linear')  # You can change kernel to 'rbf', 'poly', etc.\n",
        "    svm_model.fit(X_train, y_train)\n",
        "\n",
        "    # Make predictions\n",
        "    y_pred = svm_model.predict(X_test)\n",
        "\n",
        "    # Evaluate the model\n",
        "    print(\"Accuracy:\", accuracy_score(y_test, y_pred))\n",
        "    print(\"Classification Report:\")\n",
        "    print(classification_report(y_test, y_pred))\n"
      ],
      "metadata": {
        "id": "LvrUEUMOOOrv"
      },
      "execution_count": null,
      "outputs": []
    }
  ],
  "metadata": {
    "colab": {
      "provenance": [],
      "authorship_tag": "ABX9TyPQKVXeJ3TECPOWTH8vFTIH",
      "include_colab_link": true
    },
    "kernelspec": {
      "display_name": "Python 3",
      "name": "python3"
    },
    "language_info": {
      "name": "python"
    }
  },
  "nbformat": 4,
  "nbformat_minor": 0
}